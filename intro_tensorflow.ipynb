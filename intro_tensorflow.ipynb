{
  "nbformat": 4,
  "nbformat_minor": 0,
  "metadata": {
    "colab": {
      "name": "intro-tensorflow.ipynb",
      "provenance": [],
      "collapsed_sections": [],
      "include_colab_link": true
    },
    "kernelspec": {
      "name": "python3",
      "display_name": "Python 3"
    }
  },
  "cells": [
    {
      "cell_type": "markdown",
      "metadata": {
        "id": "view-in-github",
        "colab_type": "text"
      },
      "source": [
        "<a href=\"https://colab.research.google.com/github/angelo-kevin/tensorflow-intro/blob/master/intro_tensorflow.ipynb\" target=\"_parent\"><img src=\"https://colab.research.google.com/assets/colab-badge.svg\" alt=\"Open In Colab\"/></a>"
      ]
    },
    {
      "cell_type": "code",
      "metadata": {
        "id": "e3XvQ0lkrdx8",
        "colab_type": "code",
        "colab": {}
      },
      "source": [
        "import math\n",
        "import logging\n",
        "import numpy as np\n",
        "import pandas as pd\n",
        "import tensorflow as tf\n",
        "from sklearn import metrics\n",
        "\n",
        "tf.keras.backend.set_floatx('float64')\n",
        "logger = tf.get_logger()\n",
        "logger.setLevel(logging.ERROR)"
      ],
      "execution_count": 0,
      "outputs": []
    },
    {
      "cell_type": "code",
      "metadata": {
        "id": "v9KgTq2mz1ZF",
        "colab_type": "code",
        "colab": {}
      },
      "source": [
        "class GeneralModel(object):\n",
        "    def __init__(self, df):\n",
        "        self.model = None\n",
        "        self.train_df = None\n",
        "        self.features = []\n",
        "        self.target = None\n",
        "        \n",
        "    def _build(self, features, target_var):\n",
        "        self.features = self.train_df[features]\n",
        "        self.target = self.train_df[target_var]\n",
        "            "
      ],
      "execution_count": 0,
      "outputs": []
    },
    {
      "cell_type": "code",
      "metadata": {
        "id": "gi2ONd-Az8KP",
        "colab_type": "code",
        "colab": {}
      },
      "source": [
        "class LinearRegressor(GeneralModel):\n",
        "    def __init__(self, df):\n",
        "        super().__init__(df)\n",
        "        self.train_df = df\n",
        "    \n",
        "    def build(self, features, target_var, learning_rate):\n",
        "        super()._build(features, target_var)\n",
        "        optimizer = tf.keras.optimizers.SGD(\n",
        "            lr=learning_rate, \n",
        "            clipvalue = 5.0\n",
        "        )\n",
        "        \n",
        "        feature_columns = []\n",
        "        for f in features:\n",
        "            feature_columns.append(tf.feature_column.numeric_column(f))\n",
        "            \n",
        "        self.model = tf.estimator.LinearRegressor(\n",
        "            feature_columns = feature_columns,\n",
        "            optimizer = optimizer\n",
        "        )\n",
        "\n",
        "    def input_fn(self, batch_size=1, shuffle=True, num_epochs=None):\n",
        "        # Convert pandas data into a dict of np arrays.\n",
        "        features = {key:np.array(value) for key,value in dict(self.features).items()}                                           \n",
        "\n",
        "        # Construct a dataset, and configure batching/repeating.\n",
        "        ds = tf.compat.v1.data.Dataset.from_tensor_slices((features, self.target)) \n",
        "        ds = ds.batch(batch_size).repeat(num_epochs)\n",
        "\n",
        "        # Shuffle the data, if specified.\n",
        "        if shuffle:\n",
        "            ds = ds.shuffle(buffer_size=10000)\n",
        "\n",
        "        # Return the next batch of data.\n",
        "        features, labels = ds.make_one_shot_iterator().get_next()\n",
        "        \n",
        "        return features, labels\n",
        "\n",
        "    def analyze_result(self, pred):\n",
        "        print('\\n======= RESULT ANALYSIS =======\\n')\n",
        "        \n",
        "        # Print Mean Squared Error and Root Mean Squared Error.\n",
        "        mean_squared_error = metrics.mean_squared_error(pred, self.target)\n",
        "        root_mean_squared_error = math.sqrt(mean_squared_error)\n",
        "        print(\"Mean Squared Error (on training data): %0.3f\" % mean_squared_error)\n",
        "        print(\"Root Mean Squared Error (on training data): %0.3f\" % root_mean_squared_error)\n",
        "\n",
        "        min_house_value = self.target.min()\n",
        "        max_house_value = self.target.max()\n",
        "        min_max_difference = max_house_value - min_house_value\n",
        "\n",
        "        print(\"Min. Target Value: %0.3f\" % min_house_value)\n",
        "        print(\"Max. Target Value: %0.3f\" % max_house_value)\n",
        "        print(\"Difference between Min. and Max.: %0.3f\" % min_max_difference)\n",
        "        print(\"Root Mean Squared Error: %0.3f\" % root_mean_squared_error)\n",
        "\n",
        "        calibration_data = pd.DataFrame()\n",
        "        calibration_data[\"predictions\"] = pd.Series(pred)\n",
        "        calibration_data[\"targets\"] = pd.Series(self.target)\n",
        "        print(calibration_data.describe())\n",
        "        print('\\n=============================\\n')        \n",
        "\n",
        "    def train(self, steps, *fn):\n",
        "        training_input_fn, prediction_input_fn = fn\n",
        "        self.model.train(input_fn = training_input_fn, steps = steps)\n",
        "\n",
        "        pred = self.model.predict(input_fn = prediction_input_fn)\n",
        "        return np.array([item['predictions'][0] for item in pred])\n",
        "\n",
        "\n",
        "    def run_model(self, steps, batch_size, epochs):\n",
        "        tr_fn = lambda:self.input_fn(batch_size=batch_size)\n",
        "        pr_fn = lambda:self.input_fn(num_epochs=epochs, shuffle=False)\n",
        "\n",
        "        predictions = self.train(steps, tr_fn, pr_fn)\n",
        "        self.analyze_result(predictions)\n",
        "        return predictions\n"
      ],
      "execution_count": 0,
      "outputs": []
    },
    {
      "cell_type": "code",
      "metadata": {
        "id": "iOrOdCGBz-cE",
        "colab_type": "code",
        "colab": {}
      },
      "source": [
        "from matplotlib import pyplot as plt\n",
        "\n",
        "def plot_regression(df, x, y, model):\n",
        "    if type(model).__name__ == \"LinearRegressorV2\":\n",
        "        feat = x.replace(' ', '_')\n",
        "        pos = 'linear/linear_model/'\n",
        "        weight = model.get_variable_value(pos + feat + '/weights')[0]\n",
        "        bias = model.get_variable_value(pos + 'bias_weights')\n",
        "    else:\n",
        "        weight = model.get_weights()[0][0]\n",
        "        bias = model.get_weights()[1][0]\n",
        "    sample = df.sample(n=500, replace = True)\n",
        "    x_0 = sample[x].min()\n",
        "    x_1 = sample[x].max()\n",
        "\n",
        "    y_0 = weight * x_0 + bias \n",
        "    y_1 = weight * x_1 + bias\n",
        "\n",
        "    plt.plot([x_0, x_1], [y_0, y_1], c='r')\n",
        "    plt.ylabel(y)\n",
        "    plt.xlabel(x)\n",
        "    plt.scatter(sample[x], sample[y])\n",
        "    plt.show()"
      ],
      "execution_count": 0,
      "outputs": []
    },
    {
      "cell_type": "code",
      "metadata": {
        "id": "1uYOk7Xj0Gh_",
        "colab_type": "code",
        "colab": {}
      },
      "source": [
        "def main(df, features, target, learning_rate = 0.01, steps_num = 100, \n",
        "         batch_size = 50, epochs_num = 1, plot = False):\n",
        "\n",
        "    model = LinearRegressor(df)\n",
        "        \n",
        "    model.build(\n",
        "        features = features, \n",
        "        target_var = target, \n",
        "        learning_rate = learning_rate\n",
        "    )\n",
        "    \n",
        "    model.run_model(\n",
        "        steps_num,\n",
        "        batch_size = batch_size, \n",
        "        epochs = epochs_num,\n",
        "    )\n",
        "\n",
        "    if plot:\n",
        "        plot_regression(df, features[0], target, model.model)"
      ],
      "execution_count": 0,
      "outputs": []
    },
    {
      "cell_type": "code",
      "metadata": {
        "id": "S3opq8AU1fXy",
        "colab_type": "code",
        "outputId": "f096adcb-1e49-4390-fa28-dd412754f9e7",
        "colab": {
          "base_uri": "https://localhost:8080/",
          "height": 669
        }
      },
      "source": [
        "import io\n",
        "import requests\n",
        "\n",
        "url = 'https://raw.githubusercontent.com/angelo-kevin/tensorflow-intro/master/datasets/world-happiness/2019.csv'\n",
        "df = pd.read_csv(url)\n",
        "\n",
        "\n",
        "df = df.reindex(\n",
        "    np.random.permutation(df.index))\n",
        "\n",
        "# Example\n",
        "main(\n",
        "    df = df, \n",
        "    features = ['GDP per capita'],\n",
        "    target = 'Score',\n",
        "    learning_rate = 0.01, \n",
        "    steps_num = 500, \n",
        "    batch_size = 100, \n",
        "    epochs_num = 1, \n",
        "    plot = True\n",
        ")"
      ],
      "execution_count": 37,
      "outputs": [
        {
          "output_type": "stream",
          "text": [
            "\n",
            "======= RESULT ANALYSIS =======\n",
            "\n",
            "Mean Squared Error (on training data): 0.469\n",
            "Root Mean Squared Error (on training data): 0.685\n",
            "Min. Target Value: 2.853\n",
            "Max. Target Value: 7.769\n",
            "Difference between Min. and Max.: 4.916\n",
            "Root Mean Squared Error: 0.685\n",
            "       predictions     targets\n",
            "count   156.000000  156.000000\n",
            "mean      5.414982    5.407096\n",
            "std       1.002890    1.113120\n",
            "min       3.136399    2.853000\n",
            "25%       4.653739    4.544500\n",
            "50%       5.553066    5.379500\n",
            "75%       6.239047    6.184500\n",
            "max       7.375636    7.769000\n",
            "\n",
            "=============================\n",
            "\n"
          ],
          "name": "stdout"
        },
        {
          "output_type": "display_data",
          "data": {
            "image/png": "[encoded data removed]",
            "text/plain": [
              "<Figure size 432x288 with 1 Axes>"
            ]
          },
          "metadata": {
            "tags": []
          }
        }
      ]
    },
    {
      "cell_type": "code",
      "metadata": {
        "id": "C7kn0PKhIzpl",
        "colab_type": "code",
        "colab": {
          "base_uri": "https://localhost:8080/",
          "height": 668
        },
        "outputId": "9907c3ca-e143-4e92-a71a-1425a978c5ec"
      },
      "source": [
        "\n",
        "\n",
        "# Example\n",
        "main(\n",
        "    df = df, \n",
        "    features = ['Social support'],\n",
        "    target = 'Score',\n",
        "    learning_rate = 0.01, \n",
        "    steps_num = 500, \n",
        "    batch_size = 100, \n",
        "    epochs_num = 1, \n",
        "    plot = True\n",
        ")"
      ],
      "execution_count": 41,
      "outputs": [
        {
          "output_type": "stream",
          "text": [
            "\n",
            "======= RESULT ANALYSIS =======\n",
            "\n",
            "Mean Squared Error (on training data): 0.494\n",
            "Root Mean Squared Error (on training data): 0.703\n",
            "Min. Target Value: 2.853\n",
            "Max. Target Value: 7.769\n",
            "Difference between Min. and Max.: 4.916\n",
            "Root Mean Squared Error: 0.703\n",
            "       predictions     targets\n",
            "count   156.000000  156.000000\n",
            "mean      5.424146    5.407096\n",
            "std       0.789846    1.113120\n",
            "min       2.232956    2.853000\n",
            "25%       5.020067    4.544500\n",
            "50%       5.589633    5.379500\n",
            "75%       6.067461    6.184500\n",
            "max       6.520210    7.769000\n",
            "\n",
            "=============================\n",
            "\n"
          ],
          "name": "stdout"
        },
        {
          "output_type": "display_data",
          "data": {
            "image/png": "[encoded data removed]",
            "text/plain": [
              "<Figure size 432x288 with 1 Axes>"
            ]
          },
          "metadata": {
            "tags": []
          }
        }
      ]
    },
    {
      "cell_type": "code",
      "metadata": {
        "id": "vVBgCTGxJwNF",
        "colab_type": "code",
        "colab": {
          "base_uri": "https://localhost:8080/",
          "height": 669
        },
        "outputId": "bf6c5081-ac64-4f44-c193-24f4699bedb8"
      },
      "source": [
        "\n",
        "# Example\n",
        "main(\n",
        "    df = df, \n",
        "    features = ['Healthy life expectancy'],\n",
        "    target = 'Score',\n",
        "    learning_rate = 0.01, \n",
        "    steps_num = 500, \n",
        "    batch_size = 100, \n",
        "    epochs_num = 1, \n",
        "    plot = True\n",
        ")"
      ],
      "execution_count": 42,
      "outputs": [
        {
          "output_type": "stream",
          "text": [
            "\n",
            "======= RESULT ANALYSIS =======\n",
            "\n",
            "Mean Squared Error (on training data): 0.497\n",
            "Root Mean Squared Error (on training data): 0.705\n",
            "Min. Target Value: 2.853\n",
            "Max. Target Value: 7.769\n",
            "Difference between Min. and Max.: 4.916\n",
            "Root Mean Squared Error: 0.705\n",
            "       predictions     targets\n",
            "count   156.000000  156.000000\n",
            "mean      5.427208    5.407096\n",
            "std       0.747773    1.113120\n",
            "min       3.187376    2.853000\n",
            "25%       4.879039    4.544500\n",
            "50%       5.624113    5.379500\n",
            "75%       5.910560    6.184500\n",
            "max       6.711225    7.769000\n",
            "\n",
            "=============================\n",
            "\n"
          ],
          "name": "stdout"
        },
        {
          "output_type": "display_data",
          "data": {
            "image/png": "[encoded data removed]",
            "text/plain": [
              "<Figure size 432x288 with 1 Axes>"
            ]
          },
          "metadata": {
            "tags": []
          }
        }
      ]
    },
    {
      "cell_type": "code",
      "metadata": {
        "id": "DpEO8-IZKScp",
        "colab_type": "code",
        "colab": {
          "base_uri": "https://localhost:8080/",
          "height": 669
        },
        "outputId": "55b08528-ecbb-49d1-e9b8-a656c4ee29b6"
      },
      "source": [
        "main(\n",
        "    df = df, \n",
        "    features = ['Freedom to make life choices'],\n",
        "    target = 'Score',\n",
        "    learning_rate = 0.01, \n",
        "    steps_num = 500, \n",
        "    batch_size = 100, \n",
        "    epochs_num = 1, \n",
        "    plot = True\n",
        ")"
      ],
      "execution_count": 43,
      "outputs": [
        {
          "output_type": "stream",
          "text": [
            "\n",
            "======= RESULT ANALYSIS =======\n",
            "\n",
            "Mean Squared Error (on training data): 0.896\n",
            "Root Mean Squared Error (on training data): 0.947\n",
            "Min. Target Value: 2.853\n",
            "Max. Target Value: 7.769\n",
            "Difference between Min. and Max.: 4.916\n",
            "Root Mean Squared Error: 0.947\n",
            "       predictions     targets\n",
            "count   156.000000  156.000000\n",
            "mean      5.434140    5.407096\n",
            "std       0.385812    1.113120\n",
            "min       4.377130    2.853000\n",
            "25%       5.206430    4.544500\n",
            "50%       5.499917    5.379500\n",
            "75%       5.742918    6.184500\n",
            "max       6.076119    7.769000\n",
            "\n",
            "=============================\n",
            "\n"
          ],
          "name": "stdout"
        },
        {
          "output_type": "display_data",
          "data": {
            "image/png": "[encoded data removed]",
            "text/plain": [
              "<Figure size 432x288 with 1 Axes>"
            ]
          },
          "metadata": {
            "tags": []
          }
        }
      ]
    },
    {
      "cell_type": "code",
      "metadata": {
        "id": "oUmEDhIUKfai",
        "colab_type": "code",
        "colab": {
          "base_uri": "https://localhost:8080/",
          "height": 669
        },
        "outputId": "d3a64334-9810-46b6-872c-d4b217af6636"
      },
      "source": [
        "main(\n",
        "    df = df, \n",
        "    features = ['Generosity'],\n",
        "    target = 'Score',\n",
        "    learning_rate = 0.01, \n",
        "    steps_num = 500, \n",
        "    batch_size = 100, \n",
        "    epochs_num = 1, \n",
        "    plot = True\n",
        ")"
      ],
      "execution_count": 44,
      "outputs": [
        {
          "output_type": "stream",
          "text": [
            "\n",
            "======= RESULT ANALYSIS =======\n",
            "\n",
            "Mean Squared Error (on training data): 1.225\n",
            "Root Mean Squared Error (on training data): 1.107\n",
            "Min. Target Value: 2.853\n",
            "Max. Target Value: 7.769\n",
            "Difference between Min. and Max.: 4.916\n",
            "Root Mean Squared Error: 1.107\n",
            "       predictions     targets\n",
            "count   156.000000  156.000000\n",
            "mean      5.420816    5.407096\n",
            "std       0.117063    1.113120\n",
            "min       5.193650    2.853000\n",
            "25%       5.327298    4.544500\n",
            "50%       5.411788    5.379500\n",
            "75%       5.498737    6.184500\n",
            "max       5.889235    7.769000\n",
            "\n",
            "=============================\n",
            "\n"
          ],
          "name": "stdout"
        },
        {
          "output_type": "display_data",
          "data": {
            "image/png": "[encoded data removed]",
            "text/plain": [
              "<Figure size 432x288 with 1 Axes>"
            ]
          },
          "metadata": {
            "tags": []
          }
        }
      ]
    },
    {
      "cell_type": "code",
      "metadata": {
        "id": "bE0rOpnsKqEh",
        "colab_type": "code",
        "colab": {
          "base_uri": "https://localhost:8080/",
          "height": 669
        },
        "outputId": "e2328023-73a6-4cea-804a-017d140eb9d6"
      },
      "source": [
        "main(\n",
        "    df = df, \n",
        "    features = ['Perceptions of corruption'],\n",
        "    target = 'Score',\n",
        "    learning_rate = 0.01, \n",
        "    steps_num = 500, \n",
        "    batch_size = 100, \n",
        "    epochs_num = 1, \n",
        "    plot = True\n",
        ")"
      ],
      "execution_count": 45,
      "outputs": [
        {
          "output_type": "stream",
          "text": [
            "\n",
            "======= RESULT ANALYSIS =======\n",
            "\n",
            "Mean Squared Error (on training data): 1.154\n",
            "Root Mean Squared Error (on training data): 1.074\n",
            "Min. Target Value: 2.853\n",
            "Max. Target Value: 7.769\n",
            "Difference between Min. and Max.: 4.916\n",
            "Root Mean Squared Error: 1.074\n",
            "       predictions     targets\n",
            "count   156.000000  156.000000\n",
            "mean      5.429151    5.407096\n",
            "std       0.104124    1.113120\n",
            "min       5.307332    2.853000\n",
            "25%       5.359098    4.544500\n",
            "50%       5.401502    5.379500\n",
            "75%       5.462905    6.184500\n",
            "max       5.806266    7.769000\n",
            "\n",
            "=============================\n",
            "\n"
          ],
          "name": "stdout"
        },
        {
          "output_type": "display_data",
          "data": {
            "image/png": "[encoded data removed]",
            "text/plain": [
              "<Figure size 432x288 with 1 Axes>"
            ]
          },
          "metadata": {
            "tags": []
          }
        }
      ]
    }
  ]
}